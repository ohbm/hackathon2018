{
 "cells": [
  {
   "cell_type": "code",
   "execution_count": 1,
   "metadata": {},
   "outputs": [],
   "source": [
    "import pandas as pd\n",
    "#!pip install geopy"
   ]
  },
  {
   "cell_type": "code",
   "execution_count": 5,
   "metadata": {},
   "outputs": [],
   "source": [
    "from geopy.geocoders import Nominatim\n",
    "geolocator = Nominatim()\n",
    "#location = geolocator.geocode(\"Julich, Germany\")"
   ]
  },
  {
   "cell_type": "code",
   "execution_count": 6,
   "metadata": {},
   "outputs": [],
   "source": [
    "def getCC(i):\n",
    "    return \"{}, {}\".format(df.loc[i, 'City'], df.loc[i, 'Country'])\n",
    "\n",
    "def getLoc(cc):\n",
    "    location = geolocator.geocode(cc)\n",
    "    return \"{}, {}\".format(location.latitude, location.longitude)"
   ]
  },
  {
   "cell_type": "code",
   "execution_count": 7,
   "metadata": {},
   "outputs": [],
   "source": [
    "df = pd.read_excel(\"/Users/akeshavan/Downloads/5.24.18_questions.xlsx\")#\"/Users/akeshavan/Downloads/4.9.18.xls\")\n",
    "df[['City','Country']]\n",
    "df['city_country'] = df.index.map(getCC)\n",
    "#df.head()"
   ]
  },
  {
   "cell_type": "code",
   "execution_count": 12,
   "metadata": {},
   "outputs": [
    {
     "name": "stdout",
     "output_type": "stream",
     "text": [
      "MontrÃ©al Canada 0\n",
      "JÃ¼lich Germany 3\n",
      "JÃ¼lich, Nordrhein-Westfahlen Germany 24\n",
      "JÃ¼lich Germany 29\n",
      "LinkÃ¶ping Sweden 48\n",
      "Sart Tilman, LiÃ¨ge Belgium 89\n"
     ]
    }
   ],
   "source": [
    "for i, row in df.iterrows():\n",
    "    try:\n",
    "        ll = getLoc(row.city_country)\n",
    "        df.loc[i, 'latlong'] = ll\n",
    "    except AttributeError:\n",
    "        print(row.City, row.Country, i)\n",
    "    except OSError:\n",
    "        print(\"os error\", row.City, row.Country, i)"
   ]
  },
  {
   "cell_type": "code",
   "execution_count": 13,
   "metadata": {},
   "outputs": [],
   "source": [
    "def cleanup(idx, city, country):\n",
    "    df.loc[idx, 'city'] = 'Julich'\n",
    "    df.loc[idx, 'country'] = 'Germany'\n",
    "    df['city_country'] = df.index.map(getCC)\n",
    "    df.loc[idx, 'latlong'] = getLoc('{}, {}'.format(city, country))"
   ]
  },
  {
   "cell_type": "code",
   "execution_count": 14,
   "metadata": {},
   "outputs": [],
   "source": [
    "cleanup(0, \"Montreal\", \"Canada\")\n",
    "cleanup(3, \"Julich\", \"Germany\")\n",
    "cleanup(24, \"Julich\", \"Germany\")\n",
    "cleanup(29, \"Julich\", \"Germany\")\n",
    "cleanup(48, \"Linkoping\", \"Sweden\")\n",
    "cleanup(89, \"Liege\", \"Belgium\")"
   ]
  },
  {
   "cell_type": "markdown",
   "metadata": {},
   "source": [
    "for i, row in df.iterrows():\n",
    "    try:\n",
    "        ll = getLoc(row.city_country)\n",
    "        df.loc[i, 'latlong'] = ll\n",
    "    except AttributeError:\n",
    "        print(row.city, row.country, i)"
   ]
  },
  {
   "cell_type": "code",
   "execution_count": 15,
   "metadata": {},
   "outputs": [],
   "source": [
    "df2 = pd.DataFrame(df.groupby('latlong').apply(lambda x: x.count()['latlong']))"
   ]
  },
  {
   "cell_type": "code",
   "execution_count": 16,
   "metadata": {},
   "outputs": [
    {
     "data": {
      "text/html": [
       "<div>\n",
       "<table border=\"1\" class=\"dataframe\">\n",
       "  <thead>\n",
       "    <tr style=\"text-align: right;\">\n",
       "      <th></th>\n",
       "      <th>count</th>\n",
       "      <th>lat</th>\n",
       "      <th>long</th>\n",
       "    </tr>\n",
       "    <tr>\n",
       "      <th>latlong</th>\n",
       "      <th></th>\n",
       "      <th></th>\n",
       "      <th></th>\n",
       "    </tr>\n",
       "  </thead>\n",
       "  <tbody>\n",
       "    <tr>\n",
       "      <th>-22.9110137, -43.2093727</th>\n",
       "      <td>1</td>\n",
       "      <td>-22.9110137</td>\n",
       "      <td>-43.2093727</td>\n",
       "    </tr>\n",
       "    <tr>\n",
       "      <th>-33.7510792, 150.6941684</th>\n",
       "      <td>1</td>\n",
       "      <td>-33.7510792</td>\n",
       "      <td>150.6941684</td>\n",
       "    </tr>\n",
       "    <tr>\n",
       "      <th>-33.8548157, 151.2164539</th>\n",
       "      <td>1</td>\n",
       "      <td>-33.8548157</td>\n",
       "      <td>151.2164539</td>\n",
       "    </tr>\n",
       "    <tr>\n",
       "      <th>-33.928992, 18.417396</th>\n",
       "      <td>1</td>\n",
       "      <td>-33.928992</td>\n",
       "      <td>18.417396</td>\n",
       "    </tr>\n",
       "    <tr>\n",
       "      <th>-37.7382431, 145.0433922</th>\n",
       "      <td>1</td>\n",
       "      <td>-37.7382431</td>\n",
       "      <td>145.0433922</td>\n",
       "    </tr>\n",
       "  </tbody>\n",
       "</table>\n",
       "</div>"
      ],
      "text/plain": [
       "                          count          lat          long\n",
       "latlong                                                   \n",
       "-22.9110137, -43.2093727      1  -22.9110137   -43.2093727\n",
       "-33.7510792, 150.6941684      1  -33.7510792   150.6941684\n",
       "-33.8548157, 151.2164539      1  -33.8548157   151.2164539\n",
       "-33.928992, 18.417396         1   -33.928992     18.417396\n",
       "-37.7382431, 145.0433922      1  -37.7382431   145.0433922"
      ]
     },
     "execution_count": 16,
     "metadata": {},
     "output_type": "execute_result"
    }
   ],
   "source": [
    "df2['lat'] = df2.index.map(lambda x: x.split(',')[0])\n",
    "df2['long'] = df2.index.map(lambda x: x.split(',')[1])\n",
    "df2.rename(columns= {0: \"count\"}, inplace=True)\n",
    "df2.head()"
   ]
  },
  {
   "cell_type": "code",
   "execution_count": 17,
   "metadata": {},
   "outputs": [],
   "source": [
    "output = []\n",
    "for i, row in df2.iterrows():\n",
    "    output += [float(row.lat), float(row.long), float(row['count'])/max(df2['count'])]"
   ]
  },
  {
   "cell_type": "code",
   "execution_count": 18,
   "metadata": {},
   "outputs": [],
   "source": [
    "from nipype.utils.filemanip import save_json"
   ]
  },
  {
   "cell_type": "code",
   "execution_count": 19,
   "metadata": {},
   "outputs": [],
   "source": [
    "save_json(\"./globe/populationBrainHack.json\", [[\"2018\", output]])"
   ]
  },
  {
   "cell_type": "code",
   "execution_count": 20,
   "metadata": {},
   "outputs": [],
   "source": [
    "save_json(\"../hackathon2018/globe/populationBrainHack.json\", [[\"2018\", output]])"
   ]
  }
 ],
 "metadata": {
  "kernelspec": {
   "display_name": "Python 3",
   "language": "python",
   "name": "python3"
  },
  "language_info": {
   "codemirror_mode": {
    "name": "ipython",
    "version": 3
   },
   "file_extension": ".py",
   "mimetype": "text/x-python",
   "name": "python",
   "nbconvert_exporter": "python",
   "pygments_lexer": "ipython3",
   "version": "3.6.0"
  }
 },
 "nbformat": 4,
 "nbformat_minor": 2
}
